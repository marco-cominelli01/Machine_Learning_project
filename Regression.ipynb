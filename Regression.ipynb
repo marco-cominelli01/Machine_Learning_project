{
 "cells": [
  {
   "cell_type": "code",
   "execution_count": 3,
   "id": "f85cf4f0",
   "metadata": {},
   "outputs": [],
   "source": [
    "import pandas as pd\n",
    "import seaborn as sns\n",
    "import numpy as np\n",
    "import matplotlib.pyplot as plt"
   ]
  },
  {
   "cell_type": "code",
   "execution_count": 4,
   "id": "ae0f35a7",
   "metadata": {},
   "outputs": [],
   "source": [
    "training = pd.read_csv(\"train.csv\")\n",
    "test = pd.read_csv(\"test.csv\")"
   ]
  },
  {
   "cell_type": "code",
   "execution_count": 5,
   "id": "e3e87d0a",
   "metadata": {},
   "outputs": [
    {
     "name": "stdout",
     "output_type": "stream",
     "text": [
      "0\n",
      "0\n"
     ]
    }
   ],
   "source": [
    "print(sum(np.sum(pd.isnull(training), axis = 0).tolist()))\n",
    "# There are no NULL values in training dataset\n",
    "print(sum(np.sum(pd.isnull(test), axis = 0).tolist()))\n",
    "# There are no NULL values in test set"
   ]
  },
  {
   "cell_type": "code",
   "execution_count": 6,
   "id": "378282b2",
   "metadata": {},
   "outputs": [],
   "source": [
    "training = training.iloc[:, 1:]\n",
    "test = test.iloc[:, 1:]"
   ]
  },
  {
   "cell_type": "markdown",
   "id": "dd2ed9de",
   "metadata": {},
   "source": [
    "We want to recover from the data loss of the AGA frequency on test samples. Train a regressor which can predict the value of the AGA feature given the remaining ones. Compare different regression algorithms for this task. Since AGA features are missing in test samples, use only the training data for this step and make use of robust evaluation techniques to compare algorithms."
   ]
  },
  {
   "cell_type": "code",
   "execution_count": 7,
   "id": "b906353d",
   "metadata": {},
   "outputs": [
    {
     "name": "stdout",
     "output_type": "stream",
     "text": [
      "Kingdom values:  ['arc' 'bct' 'inv' 'mam' 'phg' 'plm' 'pln' 'pri' 'rod' 'vrl' 'vrt']\n",
      "DNA type values:  [ 0  1  2  3  4  5  6  7  9 11 12]\n"
     ]
    }
   ],
   "source": [
    "print(\"Kingdom values: \", np.unique(training[\"Kingdom\"]))\n",
    "print(\"DNA type values: \", np.unique(training[\"DNAtype\"]))"
   ]
  },
  {
   "cell_type": "markdown",
   "id": "90c23cf1",
   "metadata": {},
   "source": [
    "#### Function to one-hot encode categorical variables:"
   ]
  },
  {
   "cell_type": "code",
   "execution_count": 8,
   "id": "6a561ff2",
   "metadata": {},
   "outputs": [],
   "source": [
    "def onehot_feature(pd_data, column_name):\n",
    "    # Retrieve the unique values (the categories) and an index for each sample\n",
    "    # specifying the sample category (values[value_idx] reconstruct the original array)\n",
    "    col_values = pd_data[column_name].to_numpy().astype('<U')\n",
    "    values, value_idx = np.unique(col_values, return_inverse=True)\n",
    "    n_values = values.size\n",
    "    # Create a temporary identity matrix to convert value_idx into one-hot features\n",
    "    onehots = np.eye(n_values) #when you use an array to index another array in NumPy, it selects rows from the indexed array based on the values in the index array. e[a] selects rows from the identity matrix e based on the values in array a\n",
    "    value_onehot = onehots[value_idx]\n",
    "    # Remove the categorical feature\n",
    "    pd_data = pd_data.drop(column_name, axis=1)\n",
    "    # Add the new featues\n",
    "    for i in range(n_values):\n",
    "        pd_data[\"{}_{}\".format(column_name, values[i])] = value_onehot[:, i]\n",
    "        \n",
    "    return pd_data"
   ]
  },
  {
   "cell_type": "markdown",
   "id": "350a75e3",
   "metadata": {},
   "source": [
    "#### One-hot encoding of both the 'Kingdom' and 'DNAtype' features (on both training and test datasets):"
   ]
  },
  {
   "cell_type": "code",
   "execution_count": 9,
   "id": "6a8622e6",
   "metadata": {},
   "outputs": [
    {
     "data": {
      "text/html": [
       "<div>\n",
       "<style scoped>\n",
       "    .dataframe tbody tr th:only-of-type {\n",
       "        vertical-align: middle;\n",
       "    }\n",
       "\n",
       "    .dataframe tbody tr th {\n",
       "        vertical-align: top;\n",
       "    }\n",
       "\n",
       "    .dataframe thead th {\n",
       "        text-align: right;\n",
       "    }\n",
       "</style>\n",
       "<table border=\"1\" class=\"dataframe\">\n",
       "  <thead>\n",
       "    <tr style=\"text-align: right;\">\n",
       "      <th></th>\n",
       "      <th>SpeciesID</th>\n",
       "      <th>Ncodons</th>\n",
       "      <th>SpeciesName</th>\n",
       "      <th>UUU</th>\n",
       "      <th>UUC</th>\n",
       "      <th>UUA</th>\n",
       "      <th>UUG</th>\n",
       "      <th>CUU</th>\n",
       "      <th>CUC</th>\n",
       "      <th>CUA</th>\n",
       "      <th>...</th>\n",
       "      <th>DNAtype_1</th>\n",
       "      <th>DNAtype_11</th>\n",
       "      <th>DNAtype_12</th>\n",
       "      <th>DNAtype_2</th>\n",
       "      <th>DNAtype_3</th>\n",
       "      <th>DNAtype_4</th>\n",
       "      <th>DNAtype_5</th>\n",
       "      <th>DNAtype_6</th>\n",
       "      <th>DNAtype_7</th>\n",
       "      <th>DNAtype_9</th>\n",
       "    </tr>\n",
       "  </thead>\n",
       "  <tbody>\n",
       "    <tr>\n",
       "      <th>0</th>\n",
       "      <td>207343</td>\n",
       "      <td>6686</td>\n",
       "      <td>Bovine foamy virus</td>\n",
       "      <td>0.01541</td>\n",
       "      <td>0.00927</td>\n",
       "      <td>0.01720</td>\n",
       "      <td>0.01825</td>\n",
       "      <td>0.01436</td>\n",
       "      <td>0.02303</td>\n",
       "      <td>0.01555</td>\n",
       "      <td>...</td>\n",
       "      <td>0.0</td>\n",
       "      <td>0.0</td>\n",
       "      <td>0.0</td>\n",
       "      <td>0.0</td>\n",
       "      <td>0.0</td>\n",
       "      <td>0.0</td>\n",
       "      <td>0.0</td>\n",
       "      <td>0.0</td>\n",
       "      <td>0.0</td>\n",
       "      <td>0.0</td>\n",
       "    </tr>\n",
       "    <tr>\n",
       "      <th>1</th>\n",
       "      <td>7629</td>\n",
       "      <td>10060</td>\n",
       "      <td>Anthocidaris crassispina</td>\n",
       "      <td>0.01213</td>\n",
       "      <td>0.02515</td>\n",
       "      <td>0.00268</td>\n",
       "      <td>0.01352</td>\n",
       "      <td>0.01372</td>\n",
       "      <td>0.01143</td>\n",
       "      <td>0.00775</td>\n",
       "      <td>...</td>\n",
       "      <td>0.0</td>\n",
       "      <td>0.0</td>\n",
       "      <td>0.0</td>\n",
       "      <td>0.0</td>\n",
       "      <td>0.0</td>\n",
       "      <td>0.0</td>\n",
       "      <td>0.0</td>\n",
       "      <td>0.0</td>\n",
       "      <td>0.0</td>\n",
       "      <td>0.0</td>\n",
       "    </tr>\n",
       "    <tr>\n",
       "      <th>2</th>\n",
       "      <td>320850</td>\n",
       "      <td>14031</td>\n",
       "      <td>Staphylococcus phage X2</td>\n",
       "      <td>0.02580</td>\n",
       "      <td>0.01618</td>\n",
       "      <td>0.03606</td>\n",
       "      <td>0.01354</td>\n",
       "      <td>0.00848</td>\n",
       "      <td>0.02067</td>\n",
       "      <td>0.01041</td>\n",
       "      <td>...</td>\n",
       "      <td>0.0</td>\n",
       "      <td>0.0</td>\n",
       "      <td>0.0</td>\n",
       "      <td>0.0</td>\n",
       "      <td>0.0</td>\n",
       "      <td>0.0</td>\n",
       "      <td>0.0</td>\n",
       "      <td>0.0</td>\n",
       "      <td>0.0</td>\n",
       "      <td>0.0</td>\n",
       "    </tr>\n",
       "    <tr>\n",
       "      <th>3</th>\n",
       "      <td>1397</td>\n",
       "      <td>39839</td>\n",
       "      <td>Bacillus circulans</td>\n",
       "      <td>0.00128</td>\n",
       "      <td>0.02141</td>\n",
       "      <td>0.01225</td>\n",
       "      <td>0.01649</td>\n",
       "      <td>0.01330</td>\n",
       "      <td>0.01308</td>\n",
       "      <td>0.00399</td>\n",
       "      <td>...</td>\n",
       "      <td>0.0</td>\n",
       "      <td>0.0</td>\n",
       "      <td>0.0</td>\n",
       "      <td>0.0</td>\n",
       "      <td>0.0</td>\n",
       "      <td>0.0</td>\n",
       "      <td>0.0</td>\n",
       "      <td>0.0</td>\n",
       "      <td>0.0</td>\n",
       "      <td>0.0</td>\n",
       "    </tr>\n",
       "    <tr>\n",
       "      <th>4</th>\n",
       "      <td>50790</td>\n",
       "      <td>5112</td>\n",
       "      <td>mitochondrion Dascyllus trimaculatus</td>\n",
       "      <td>0.03169</td>\n",
       "      <td>0.01780</td>\n",
       "      <td>0.03893</td>\n",
       "      <td>0.00000</td>\n",
       "      <td>0.06240</td>\n",
       "      <td>0.01056</td>\n",
       "      <td>0.05262</td>\n",
       "      <td>...</td>\n",
       "      <td>1.0</td>\n",
       "      <td>0.0</td>\n",
       "      <td>0.0</td>\n",
       "      <td>0.0</td>\n",
       "      <td>0.0</td>\n",
       "      <td>0.0</td>\n",
       "      <td>0.0</td>\n",
       "      <td>0.0</td>\n",
       "      <td>0.0</td>\n",
       "      <td>0.0</td>\n",
       "    </tr>\n",
       "  </tbody>\n",
       "</table>\n",
       "<p>5 rows × 89 columns</p>\n",
       "</div>"
      ],
      "text/plain": [
       "   SpeciesID  Ncodons                           SpeciesName      UUU      UUC  \\\n",
       "0     207343     6686                    Bovine foamy virus  0.01541  0.00927   \n",
       "1       7629    10060              Anthocidaris crassispina  0.01213  0.02515   \n",
       "2     320850    14031               Staphylococcus phage X2  0.02580  0.01618   \n",
       "3       1397    39839                    Bacillus circulans  0.00128  0.02141   \n",
       "4      50790     5112  mitochondrion Dascyllus trimaculatus  0.03169  0.01780   \n",
       "\n",
       "       UUA      UUG      CUU      CUC      CUA  ...  DNAtype_1  DNAtype_11  \\\n",
       "0  0.01720  0.01825  0.01436  0.02303  0.01555  ...        0.0         0.0   \n",
       "1  0.00268  0.01352  0.01372  0.01143  0.00775  ...        0.0         0.0   \n",
       "2  0.03606  0.01354  0.00848  0.02067  0.01041  ...        0.0         0.0   \n",
       "3  0.01225  0.01649  0.01330  0.01308  0.00399  ...        0.0         0.0   \n",
       "4  0.03893  0.00000  0.06240  0.01056  0.05262  ...        1.0         0.0   \n",
       "\n",
       "   DNAtype_12  DNAtype_2  DNAtype_3  DNAtype_4  DNAtype_5  DNAtype_6  \\\n",
       "0         0.0        0.0        0.0        0.0        0.0        0.0   \n",
       "1         0.0        0.0        0.0        0.0        0.0        0.0   \n",
       "2         0.0        0.0        0.0        0.0        0.0        0.0   \n",
       "3         0.0        0.0        0.0        0.0        0.0        0.0   \n",
       "4         0.0        0.0        0.0        0.0        0.0        0.0   \n",
       "\n",
       "   DNAtype_7  DNAtype_9  \n",
       "0        0.0        0.0  \n",
       "1        0.0        0.0  \n",
       "2        0.0        0.0  \n",
       "3        0.0        0.0  \n",
       "4        0.0        0.0  \n",
       "\n",
       "[5 rows x 89 columns]"
      ]
     },
     "execution_count": 9,
     "metadata": {},
     "output_type": "execute_result"
    }
   ],
   "source": [
    "training_ohe = onehot_feature(training, 'Kingdom')\n",
    "training_ohe = onehot_feature(training_ohe, 'DNAtype')\n",
    "\n",
    "test_ohe = onehot_feature(test, 'Kingdom')\n",
    "test_ohe = onehot_feature(test_ohe, 'DNAtype')\n",
    "\n",
    "training_ohe.head()"
   ]
  },
  {
   "cell_type": "markdown",
   "id": "029b734d",
   "metadata": {},
   "source": [
    "#### Correlation between AGA and each codon and then between each pair of codon"
   ]
  },
  {
   "cell_type": "code",
   "execution_count": 10,
   "id": "7ea32681",
   "metadata": {},
   "outputs": [
    {
     "name": "stdout",
     "output_type": "stream",
     "text": [
      "Codons that have a Spearman correlation >= 0.5 (in absolute terms) with AGA:\n",
      "UUG: 0.517733529126989 -- p-value = 0.0\n",
      "AUC: -0.6633343136412367 -- p-value = 0.0\n",
      "GCC: -0.7147492089184697 -- p-value = 0.0\n",
      "CCC: -0.5197634685183508 -- p-value = 0.0\n",
      "GGC: -0.5852023884920887 -- p-value = 0.0\n",
      "UCU: 0.5009233407342024 -- p-value = 0.0\n",
      "AGU: 0.694694113172632 -- p-value = 0.0\n",
      "UAU: 0.561316082441995 -- p-value = 0.0\n",
      "AAU: 0.6609476920961472 -- p-value = 0.0\n",
      "UGU: 0.669400904393223 -- p-value = 0.0\n",
      "CAU: 0.5266827529444139 -- p-value = 0.0\n",
      "CAC: -0.5115707636164963 -- p-value = 0.0\n",
      "AAA: 0.5339363538522637 -- p-value = 0.0\n",
      "AGG: 0.632327477358485 -- p-value = 0.0\n",
      "GAU: 0.6161749105450396 -- p-value = 0.0\n",
      "GAA: 0.5428476518370057 -- p-value = 0.0\n",
      "\n",
      "Pairs of codons with a Spearman correlation >= 0.8 (in absolute terms) NOT considering AGA\n",
      "Spearman correlation between UUA and AUU: 0.8367679640170536 -- p-value = 0.0\n",
      "Spearman correlation between AUU and UUA: 0.8367679640170534 -- p-value = 0.0\n",
      "Spearman correlation between GCC and AAU: -0.8144283599086362 -- p-value = 0.0\n",
      "Spearman correlation between GCG and CCG: 0.822557812727275 -- p-value = 0.0\n",
      "Spearman correlation between GCG and ACG: 0.8223173287386336 -- p-value = 0.0\n",
      "Spearman correlation between CCG and GCG: 0.8225578127272749 -- p-value = 0.0\n",
      "Spearman correlation between ACG and GCG: 0.8223173287386337 -- p-value = 0.0\n",
      "Spearman correlation between UAU and AAU: 0.8132948467165341 -- p-value = 0.0\n",
      "Spearman correlation between AAU and GCC: -0.814428359908636 -- p-value = 0.0\n",
      "Spearman correlation between AAU and UAU: 0.8132948467165341 -- p-value = 0.0\n"
     ]
    }
   ],
   "source": [
    "# First let's check if we can use Pearson correlation:\n",
    "\n",
    "#for col in training.columns[5:]:\n",
    "#    plt.hist(training.loc[:, col], bins = 10)\n",
    "#    plt.show()\n",
    "    \n",
    "# We can't because they don't follow a gaussian distribution, so we use rank correlation methods like Spearman:\n",
    "\n",
    "from scipy import stats\n",
    "print(\"Codons that have a Spearman correlation >= 0.5 (in absolute terms) with AGA:\")\n",
    "for col in training.columns[5:]:\n",
    "    if col != 'AGA':\n",
    "        res = stats.spearmanr(training.loc[:, col], training.loc[:, 'AGA'])\n",
    "        if abs(res.statistic) >= 0.5:\n",
    "            print(\"{}: {} -- p-value = {}\".format(col, res.statistic, res.pvalue))\n",
    "\n",
    "# Now we look at the Spearman correlation between all codons to understand if there's some redundancy:\n",
    "\n",
    "print(\"\\nPairs of codons with a Spearman correlation >= 0.8 (in absolute terms) NOT considering AGA\")\n",
    "for codon1 in training.columns[5:]:\n",
    "    for codon2 in training.columns[5:]:\n",
    "        if codon1 != codon2 and codon1 != 'AGA' and codon2 != 'AGA':\n",
    "            res = stats.spearmanr( training.loc[:, codon1]    ,  training.loc[:, codon2]    )\n",
    "        if abs(res.statistic) >= 0.8:\n",
    "            print(\"Spearman correlation between {} and {}: {} -- p-value = {}\".format(codon1, codon2, res.statistic,\n",
    "                                                                                     res.pvalue))"
   ]
  },
  {
   "cell_type": "markdown",
   "id": "b931e5a0",
   "metadata": {},
   "source": [
    "#### All functions needed later on:"
   ]
  },
  {
   "cell_type": "code",
   "execution_count": 11,
   "id": "61338e28",
   "metadata": {},
   "outputs": [],
   "source": [
    "from scipy.stats import t, f\n",
    "\n",
    "def rss(y_true, y_pred):\n",
    "    y_true = y_true.reshape(y_pred.shape)\n",
    "    return np.sum((y_true - y_pred) ** 2)\n",
    "\n",
    "def tss(y):\n",
    "    return np.sum((y - y.mean()) ** 2)\n",
    "\n",
    "def multiple_least_squares(X, y):\n",
    "    model = LinearRegression(fit_intercept=True)\n",
    "    model.fit(X, y)\n",
    "    y_pred = model.predict(X)\n",
    "    betas = [model.intercept_, *model.coef_]\n",
    "    return betas, y_pred\n",
    "\n",
    "def show_stats(X, y, betas, names, alpha=None):\n",
    "    n_samples, n_features = X.shape\n",
    "    deg = n_samples-n_features\n",
    "    \n",
    "    if X.shape[1] + 1 == betas.shape[0]:\n",
    "        X = np.concatenate([np.ones([X.shape[0], 1]), X], axis=-1)\n",
    "    \n",
    "    pred = X.dot(betas).reshape(-1)\n",
    "    betas = betas.reshape(-1)\n",
    "    y = y.reshape(-1)\n",
    "    RSE = ((y-pred)**2).sum()/(n_samples - n_features)\n",
    "    \n",
    "    se2_b = RSE*(np.linalg.inv(np.dot(X.T, X)).diagonal())\n",
    "    se_b = np.sqrt(se2_b)\n",
    "    t_stat_b = (betas - 0) / se_b\n",
    "\n",
    "    p_values = np.array([2*t.sf(np.abs(t_stat), deg) for t_stat in t_stat_b])\n",
    "    \n",
    "    df = pd.DataFrame()\n",
    "    df[\"Name\"] = names\n",
    "    df[\"Coefficients\"] = betas\n",
    "    df[\"Standard Errors\"] = se_b\n",
    "    df[\"t-stat\"] = t_stat_b\n",
    "    df[\"p-value\"] = p_values\n",
    "    if alpha:\n",
    "        rejectH0 = p_values < alpha\n",
    "        df[\"reject H0\"] = rejectH0    \n",
    "    \n",
    "    RSS = np.sum((y - pred)**2)\n",
    "    MSE = RSS/y.shape[0]\n",
    "    return df\n",
    " \n",
    "def Ftest_restricted(data, y, subset_features):\n",
    "    X_complete = data.to_numpy()\n",
    "    y = y.to_numpy()\n",
    "    n = X_complete.shape[0]\n",
    "    \n",
    "    betas_complete, y_pred = multiple_least_squares(X_complete, y)    \n",
    "    rss_complete = rss(y, y_pred)\n",
    "    nf_complete = X_complete.shape[1]\n",
    "    \n",
    "    notS = data.columns.difference(subset_features)\n",
    "    X_restr = data[notS].to_numpy()\n",
    "    betas_restr, y_pred = multiple_least_squares(X_restr, y)\n",
    "\n",
    "    rss_restr = rss(y, y_pred)\n",
    "    nf_restr = X_restr.shape[1]\n",
    "\n",
    "    q = nf_complete - nf_restr\n",
    "\n",
    "    F_num = (rss_restr - rss_complete) / q\n",
    "    F_den = rss_complete / (n - nf_complete - 1)\n",
    "    F = F_num / F_den\n",
    "\n",
    "    p_value = f.sf(F, q, n - nf_complete - 1)\n",
    "    return p_value, F"
   ]
  },
  {
   "cell_type": "markdown",
   "id": "5f2da7a2",
   "metadata": {},
   "source": [
    "#### Multivariate linear regression models to understand which codon are useless for predicting AGA frequency\n",
    "#### Features considered: Codons"
   ]
  },
  {
   "cell_type": "code",
   "execution_count": 12,
   "id": "7c0f7aac",
   "metadata": {},
   "outputs": [
    {
     "name": "stdout",
     "output_type": "stream",
     "text": [
      "         Name  Coefficients  Standard Errors        t-stat  p-value  reject H0\n",
      "0   Intercept      0.999938         0.000082  12248.651521      0.0       True\n",
      "1         UUU     -0.999900         0.000088 -11419.511160      0.0       True\n",
      "2         UUC     -0.999959         0.000101  -9905.781604      0.0       True\n",
      "3         UUA     -0.999960         0.000096 -10412.822448      0.0       True\n",
      "4         UUG     -0.999897         0.000103  -9710.379087      0.0       True\n",
      "..        ...           ...              ...           ...      ...        ...\n",
      "59        GAA     -0.999955         0.000103  -9738.646816      0.0       True\n",
      "60        GAG     -0.999950         0.000100 -10007.550693      0.0       True\n",
      "61        UAA     -0.999893         0.000088 -11412.835860      0.0       True\n",
      "62        UAG     -0.999394         0.000435  -2295.279831      0.0       True\n",
      "63        UGA     -1.000029         0.000133  -7535.083484      0.0       True\n",
      "\n",
      "[64 rows x 6 columns]\n",
      "\n",
      "NOT SIGNIFICANT CODONS:\n",
      "  Empty DataFrame\n",
      "Columns: [Name, Coefficients, Standard Errors, t-stat, p-value, reject H0]\n",
      "Index: []\n"
     ]
    }
   ],
   "source": [
    "from sklearn.linear_model import LinearRegression\n",
    "\n",
    "X1 = training.iloc[:, 5:].drop(\"AGA\", axis = 1)\n",
    "y = training.loc[:, \"AGA\"]\n",
    "\n",
    "X1_all_features = [col_name for col_name in X1.columns.tolist()]\n",
    "\n",
    "linear_model1 = LinearRegression(fit_intercept=True)\n",
    "linear_model1 = linear_model1.fit(X1, y)\n",
    "\n",
    "betas = np.array([linear_model1.intercept_, *linear_model1.coef_]).reshape(-1, 1) \n",
    "final_stats = show_stats(X1.to_numpy(), y.to_numpy(), betas, ['Intercept', *X1_all_features], alpha=0.001)\n",
    "print(final_stats)\n",
    "print(\"\\nNOT SIGNIFICANT CODONS:\\n \", final_stats[final_stats.loc[:, 'reject H0']==False])"
   ]
  },
  {
   "cell_type": "markdown",
   "id": "c834ca4e",
   "metadata": {},
   "source": [
    "#### Multivariate linear regression models to understand which codon are useless for predicting AGA frequency\n",
    "#### Features considered: Codons, Kingdom and DNAtype\n",
    "\n",
    "#### Se consideriamo tutti i livelli della dummy variable \"DNAtype\" la funzione dà NaN per gli SE dei coefficienti --> può aver senso rimuovere i livelli della variabile che hanno troppe poche osservazioni (1 sola) dato che questo porta sicuramente ad una stima non precisa del coefficiente"
   ]
  },
  {
   "cell_type": "code",
   "execution_count": 13,
   "id": "3003762b",
   "metadata": {},
   "outputs": [
    {
     "name": "stdout",
     "output_type": "stream",
     "text": [
      "         Name  Coefficients  Standard Errors        t-stat   p-value  \\\n",
      "0   Intercept      0.999952        75.650494      0.013218  0.989454   \n",
      "1         UUU     -0.999915         0.000091 -11009.097462  0.000000   \n",
      "2         UUC     -0.999984         0.000105  -9564.175374  0.000000   \n",
      "3         UUA     -0.999974         0.000101  -9937.690367  0.000000   \n",
      "4         UUG     -0.999913         0.000105  -9495.334790  0.000000   \n",
      "..        ...           ...              ...           ...       ...   \n",
      "79  DNAtype_3     -0.000033         0.000038     -0.868047  0.385389   \n",
      "80  DNAtype_4     -0.000008         0.000028     -0.286691  0.774355   \n",
      "81  DNAtype_6      0.000034         0.000047      0.712614  0.476100   \n",
      "82  DNAtype_7      0.000040         0.000047      0.855893  0.392077   \n",
      "83  DNAtype_9     -0.000046         0.000039     -1.187702  0.234978   \n",
      "\n",
      "    reject H0  \n",
      "0       False  \n",
      "1        True  \n",
      "2        True  \n",
      "3        True  \n",
      "4        True  \n",
      "..        ...  \n",
      "79      False  \n",
      "80      False  \n",
      "81      False  \n",
      "82      False  \n",
      "83      False  \n",
      "\n",
      "[84 rows x 6 columns]\n",
      "\n",
      "NOT SIGNIFICANT FEATURES: \n",
      "            Name  Coefficients  Standard Errors        t-stat   p-value  \\\n",
      "0     Intercept  9.999521e-01        75.650494  1.321805e-02  0.989454   \n",
      "64  Kingdom_arc -6.548840e-06        75.650494 -8.656705e-08  1.000000   \n",
      "65  Kingdom_bct -1.958701e-06        75.650494 -2.589145e-08  1.000000   \n",
      "66  Kingdom_inv -2.035773e-07        75.650494 -2.691024e-09  1.000000   \n",
      "67  Kingdom_mam -5.583466e-07        75.650494 -7.380608e-09  1.000000   \n",
      "68  Kingdom_phg  4.027355e-06        75.650494  5.323634e-08  1.000000   \n",
      "69  Kingdom_plm  9.314254e-06        75.650494  1.231222e-07  1.000000   \n",
      "70  Kingdom_pln -5.106051e-07        75.650494 -6.749528e-09  1.000000   \n",
      "71  Kingdom_pri -2.962864e-06        75.650494 -3.916517e-08  1.000000   \n",
      "72  Kingdom_rod  1.738469e-06        75.650494  2.298027e-08  1.000000   \n",
      "73  Kingdom_vrl -2.590858e-06        75.650494 -3.424773e-08  1.000000   \n",
      "74  Kingdom_vrt  2.537141e-07        75.650494  3.353766e-09  1.000000   \n",
      "75    DNAtype_0  1.737692e-06         0.000027  6.359926e-02  0.949291   \n",
      "76    DNAtype_1  1.021213e-06         0.000027  3.728409e-02  0.970259   \n",
      "77   DNAtype_12 -8.473327e-06         0.000032 -2.615320e-01  0.793687   \n",
      "78    DNAtype_2  1.975947e-06         0.000027  7.224475e-02  0.942409   \n",
      "79    DNAtype_3 -3.340373e-05         0.000038 -8.680468e-01  0.385389   \n",
      "80    DNAtype_4 -8.139249e-06         0.000028 -2.866908e-01  0.774355   \n",
      "81    DNAtype_6  3.362344e-05         0.000047  7.126145e-01  0.476100   \n",
      "82    DNAtype_7  4.040073e-05         0.000047  8.558932e-01  0.392077   \n",
      "83    DNAtype_9 -4.575776e-05         0.000039 -1.187702e+00  0.234978   \n",
      "\n",
      "    reject H0  \n",
      "0       False  \n",
      "64      False  \n",
      "65      False  \n",
      "66      False  \n",
      "67      False  \n",
      "68      False  \n",
      "69      False  \n",
      "70      False  \n",
      "71      False  \n",
      "72      False  \n",
      "73      False  \n",
      "74      False  \n",
      "75      False  \n",
      "76      False  \n",
      "77      False  \n",
      "78      False  \n",
      "79      False  \n",
      "80      False  \n",
      "81      False  \n",
      "82      False  \n",
      "83      False  \n"
     ]
    }
   ],
   "source": [
    "X2 = training_ohe.iloc[:, 3:].drop([\"AGA\", \"DNAtype_5\", \"DNAtype_11\"], axis = 1)\n",
    "y = training_ohe.loc[:, \"AGA\"]\n",
    "\n",
    "X2_all_features = X2.columns.tolist()\n",
    "\n",
    "linear_model2 = LinearRegression(fit_intercept=True)\n",
    "linear_model2 = linear_model2.fit(X2, y)\n",
    "\n",
    "betas = np.array([linear_model2.intercept_, *linear_model2.coef_]).reshape(-1, 1) \n",
    "final_stats = show_stats(X2.to_numpy(), y.to_numpy(), betas, ['Intercept', *X2_all_features], alpha=0.001)\n",
    "\n",
    "\n",
    "print(final_stats)\n",
    "print(\"\\nNOT SIGNIFICANT FEATURES: \\n\", final_stats[final_stats.loc[:, 'reject H0']==False])"
   ]
  },
  {
   "cell_type": "markdown",
   "id": "7b327520",
   "metadata": {},
   "source": [
    "#### Performance of the model with only the codons\n"
   ]
  },
  {
   "cell_type": "code",
   "execution_count": 14,
   "id": "341e9631",
   "metadata": {},
   "outputs": [
    {
     "name": "stdout",
     "output_type": "stream",
     "text": [
      "Train R2 score  0.9999803188956894\n",
      "Train MSE score  1.4547727981251517e-09\n"
     ]
    }
   ],
   "source": [
    "from sklearn.metrics import r2_score, mean_squared_error\n",
    "\n",
    "y_predict = linear_model1.predict(X1)\n",
    "print(\"Train R2 score \", r2_score(y, y_predict))\n",
    "print(\"Train MSE score \", mean_squared_error(y, y_predict))"
   ]
  },
  {
   "cell_type": "markdown",
   "id": "8226d1e0",
   "metadata": {},
   "source": [
    "#### Check that 'DNAtype' and 'Kingdom' features are actually useless to predict AGA frequency\n",
    "By looking at the p-value, we can exclude those features."
   ]
  },
  {
   "cell_type": "code",
   "execution_count": 15,
   "id": "2b658fbf",
   "metadata": {},
   "outputs": [
    {
     "name": "stdout",
     "output_type": "stream",
     "text": [
      "p-value = 0.5937615870539219\n",
      "F-stat = 0.8951735779740977\n",
      "Do not Reject H0: There is NO evidence to say that at least one of the S features is useful\n"
     ]
    }
   ],
   "source": [
    "features_to_exclude = X2.loc[:, \"Kingdom_arc\":].columns.tolist()\n",
    "\n",
    "p_value, F = Ftest_restricted(X2, y, features_to_exclude)\n",
    "print(\"p-value =\", p_value)\n",
    "print(\"F-stat =\", F)\n",
    "if p_value < 0.001:\n",
    "    print(\"Reject H0: There is evidence to say that at least one of the S features is useful\")\n",
    "else:\n",
    "    print(\"Do not Reject H0: There is NO evidence to say that at least one of the S features is useful\")\n"
   ]
  },
  {
   "cell_type": "markdown",
   "id": "c7ebc1ee",
   "metadata": {},
   "source": [
    "## METTERE PLOT SUI RESIDUI PER CAPIRE SE USARE POLINOMIALI ETC"
   ]
  },
  {
   "cell_type": "markdown",
   "id": "04dcf7dc",
   "metadata": {},
   "source": [
    "\n",
    "### Ridge vs Lasso\n",
    "#### In theory, Lasso performs better when we expect only few features to be significant. In this case we expect a lot of features to be useful (almost all the codons) so probably Ridge is better (try both but with this premise)\n",
    "#### Don't forget about Elastic Net"
   ]
  },
  {
   "cell_type": "markdown",
   "id": "e7344289",
   "metadata": {},
   "source": [
    "#### Ridge, with CV"
   ]
  },
  {
   "cell_type": "code",
   "execution_count": 16,
   "id": "5d39b817",
   "metadata": {},
   "outputs": [
    {
     "data": {
      "text/plain": [
       "1e-08"
      ]
     },
     "execution_count": 16,
     "metadata": {},
     "output_type": "execute_result"
    }
   ],
   "source": [
    "from sklearn.linear_model import RidgeCV\n",
    "X = training_ohe.iloc[:, 3:].drop(\"AGA\", axis = 1)\n",
    "y = training_ohe.loc[:, \"AGA\"]\n",
    "\n",
    "ridge_linear_model = RidgeCV(alphas=[1e-10, 1e-9, 1e-8, 1e-7, 1e-6, 1e-5, 1e-4,\n",
    "                                    1e-3, 1e-2, 1e-1, 1], fit_intercept = True).fit(X, y)\n",
    "ridge_linear_model.score(X, y)\n",
    "ridge_linear_model.alpha_ # Regolarizza poco"
   ]
  },
  {
   "cell_type": "markdown",
   "id": "69798816",
   "metadata": {},
   "source": [
    "#### Lasso, with CV"
   ]
  },
  {
   "cell_type": "code",
   "execution_count": 17,
   "id": "6d47b261",
   "metadata": {},
   "outputs": [
    {
     "name": "stdout",
     "output_type": "stream",
     "text": [
      "Coefficient UUU was removed\n",
      "Coefficient UUG was removed\n",
      "Coefficient CUC was removed\n",
      "Coefficient AUG was removed\n",
      "Coefficient GUU was removed\n",
      "Coefficient GUC was removed\n",
      "Coefficient GUA was removed\n",
      "Coefficient GCU was removed\n",
      "Coefficient CCU was removed\n",
      "Coefficient CCA was removed\n",
      "Coefficient CCG was removed\n",
      "Coefficient GGG was removed\n",
      "Coefficient UCC was removed\n",
      "Coefficient UCA was removed\n",
      "Coefficient UCG was removed\n",
      "Coefficient AGU was removed\n",
      "Coefficient ACU was removed\n",
      "Coefficient ACC was removed\n",
      "Coefficient UAU was removed\n",
      "Coefficient CAG was removed\n",
      "Coefficient UGU was removed\n",
      "Coefficient UGC was removed\n",
      "Coefficient CAU was removed\n",
      "Coefficient CAC was removed\n",
      "Coefficient AAG was removed\n",
      "Coefficient CGA was removed\n",
      "Coefficient CGG was removed\n",
      "Coefficient GAU was removed\n",
      "Coefficient GAG was removed\n",
      "Coefficient UAA was removed\n",
      "Coefficient UAG was removed\n",
      "Coefficient UGA was removed\n",
      "Coefficient Kingdom_bct was removed\n",
      "Coefficient Kingdom_phg was removed\n",
      "Coefficient Kingdom_plm was removed\n",
      "Coefficient DNAtype_0 was removed\n",
      "Coefficient DNAtype_3 was removed\n",
      "Coefficient DNAtype_5 was removed\n",
      "Coefficient DNAtype_6 was removed\n",
      "Coefficient DNAtype_9 was removed\n"
     ]
    }
   ],
   "source": [
    "from sklearn.linear_model import LassoCV\n",
    "X = training_ohe.iloc[:, 3:].drop(\"AGA\", axis = 1)\n",
    "y = training_ohe.loc[:, \"AGA\"]\n",
    "\n",
    "lasso_linear_model = LassoCV(cv=10, random_state=0).fit(X, y)\n",
    "lasso_linear_model.score(X, y)\n",
    "for idx,coef in enumerate(lasso_linear_model.coef_):\n",
    "    if abs(coef) != 0:\n",
    "        pass\n",
    "        #print(\"Coefficient of {}: {}\".format(X.columns[idx], coef))\n",
    "    else:\n",
    "        print(\"Coefficient {} was removed\".format(X.columns[idx]))\n"
   ]
  }
 ],
 "metadata": {
  "kernelspec": {
   "display_name": "Python 3 (ipykernel)",
   "language": "python",
   "name": "python3"
  },
  "language_info": {
   "codemirror_mode": {
    "name": "ipython",
    "version": 3
   },
   "file_extension": ".py",
   "mimetype": "text/x-python",
   "name": "python",
   "nbconvert_exporter": "python",
   "pygments_lexer": "ipython3",
   "version": "3.11.9"
  }
 },
 "nbformat": 4,
 "nbformat_minor": 5
}
