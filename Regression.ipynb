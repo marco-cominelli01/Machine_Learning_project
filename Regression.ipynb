{
 "cells": [
  {
   "cell_type": "code",
   "execution_count": 3,
   "id": "f85cf4f0",
   "metadata": {},
   "outputs": [],
   "source": [
    "import pandas as pd\n",
    "import seaborn as sns\n",
    "import numpy as np\n",
    "import matplotlib.pyplot as plt"
   ]
  },
  {
   "cell_type": "code",
   "execution_count": 4,
   "id": "ae0f35a7",
   "metadata": {},
   "outputs": [],
   "source": [
    "training = pd.read_csv(\"train.csv\")\n",
    "test = pd.read_csv(\"test.csv\")"
   ]
  },
  {
   "cell_type": "code",
   "execution_count": 5,
   "id": "e3e87d0a",
   "metadata": {},
   "outputs": [
    {
     "name": "stdout",
     "output_type": "stream",
     "text": [
      "0\n",
      "0\n"
     ]
    }
   ],
   "source": [
    "print(sum(np.sum(pd.isnull(training), axis = 0).tolist()))\n",
    "# There are no NULL values in training dataset\n",
    "print(sum(np.sum(pd.isnull(test), axis = 0).tolist()))\n",
    "# There are no NULL values in test set"
   ]
  },
  {
   "cell_type": "code",
   "execution_count": 6,
   "id": "378282b2",
   "metadata": {},
   "outputs": [],
   "source": [
    "training = training.iloc[:, 1:]\n",
    "test = test.iloc[:, 1:]"
   ]
  },
  {
   "cell_type": "markdown",
   "id": "dd2ed9de",
   "metadata": {},
   "source": [
    "We want to recover from the data loss of the AGA frequency on test samples. Train a regressor which can predict the value of the AGA feature given the remaining ones. Compare different regression algorithms for this task. Since AGA features are missing in test samples, use only the training data for this step and make use of robust evaluation techniques to compare algorithms."
   ]
  },
  {
   "cell_type": "code",
   "execution_count": 7,
   "id": "b906353d",
   "metadata": {},
   "outputs": [
    {
     "name": "stdout",
     "output_type": "stream",
     "text": [
      "Kingdom values:  ['arc' 'bct' 'inv' 'mam' 'phg' 'plm' 'pln' 'pri' 'rod' 'vrl' 'vrt']\n",
      "DNA type values:  [ 0  1  2  3  4  5  6  7  9 11 12]\n"
     ]
    }
   ],
   "source": [
    "print(\"Kingdom values: \", np.unique(training[\"Kingdom\"]))\n",
    "print(\"DNA type values: \", np.unique(training[\"DNAtype\"]))"
   ]
  },
  {
   "cell_type": "markdown",
   "id": "90c23cf1",
   "metadata": {},
   "source": [
    "#### Function to one-hot encode categorical variables:"
   ]
  },
  {
   "cell_type": "code",
   "execution_count": 8,
   "id": "6a561ff2",
   "metadata": {},
   "outputs": [],
   "source": [
    "def onehot_feature(pd_data, column_name):\n",
    "    # Retrieve the unique values (the categories) and an index for each sample\n",
    "    # specifying the sample category (values[value_idx] reconstruct the original array)\n",
    "    col_values = pd_data[column_name].to_numpy().astype('<U')\n",
    "    values, value_idx = np.unique(col_values, return_inverse=True)\n",
    "    n_values = values.size\n",
    "    # Create a temporary identity matrix to convert value_idx into one-hot features\n",
    "    onehots = np.eye(n_values) #when you use an array to index another array in NumPy, it selects rows from the indexed array based on the values in the index array. e[a] selects rows from the identity matrix e based on the values in array a\n",
    "    value_onehot = onehots[value_idx]\n",
    "    # Remove the categorical feature\n",
    "    pd_data = pd_data.drop(column_name, axis=1)\n",
    "    # Add the new featues\n",
    "    for i in range(n_values):\n",
    "        pd_data[\"{}_{}\".format(column_name, values[i])] = value_onehot[:, i]\n",
    "        \n",
    "    return pd_data"
   ]
  },
  {
   "cell_type": "markdown",
   "id": "350a75e3",
   "metadata": {},
   "source": [
    "#### One-hot encoding of both the 'Kingdom' and 'DNAtype' features (on both training and test datasets):"
   ]
  },
  {
   "cell_type": "code",
   "execution_count": 9,
   "id": "6a8622e6",
   "metadata": {},
   "outputs": [
    {
     "data": {
      "text/html": [
       "<div>\n",
       "<style scoped>\n",
       "    .dataframe tbody tr th:only-of-type {\n",
       "        vertical-align: middle;\n",
       "    }\n",
       "\n",
       "    .dataframe tbody tr th {\n",
       "        vertical-align: top;\n",
       "    }\n",
       "\n",
       "    .dataframe thead th {\n",
       "        text-align: right;\n",
       "    }\n",
       "</style>\n",
       "<table border=\"1\" class=\"dataframe\">\n",
       "  <thead>\n",
       "    <tr style=\"text-align: right;\">\n",
       "      <th></th>\n",
       "      <th>SpeciesID</th>\n",
       "      <th>Ncodons</th>\n",
       "      <th>SpeciesName</th>\n",
       "      <th>UUU</th>\n",
       "      <th>UUC</th>\n",
       "      <th>UUA</th>\n",
       "      <th>UUG</th>\n",
       "      <th>CUU</th>\n",
       "      <th>CUC</th>\n",
       "      <th>CUA</th>\n",
       "      <th>...</th>\n",
       "      <th>DNAtype_1</th>\n",
       "      <th>DNAtype_11</th>\n",
       "      <th>DNAtype_12</th>\n",
       "      <th>DNAtype_2</th>\n",
       "      <th>DNAtype_3</th>\n",
       "      <th>DNAtype_4</th>\n",
       "      <th>DNAtype_5</th>\n",
       "      <th>DNAtype_6</th>\n",
       "      <th>DNAtype_7</th>\n",
       "      <th>DNAtype_9</th>\n",
       "    </tr>\n",
       "  </thead>\n",
       "  <tbody>\n",
       "    <tr>\n",
       "      <th>0</th>\n",
       "      <td>207343</td>\n",
       "      <td>6686</td>\n",
       "      <td>Bovine foamy virus</td>\n",
       "      <td>0.01541</td>\n",
       "      <td>0.00927</td>\n",
       "      <td>0.01720</td>\n",
       "      <td>0.01825</td>\n",
       "      <td>0.01436</td>\n",
       "      <td>0.02303</td>\n",
       "      <td>0.01555</td>\n",
       "      <td>...</td>\n",
       "      <td>0.0</td>\n",
       "      <td>0.0</td>\n",
       "      <td>0.0</td>\n",
       "      <td>0.0</td>\n",
       "      <td>0.0</td>\n",
       "      <td>0.0</td>\n",
       "      <td>0.0</td>\n",
       "      <td>0.0</td>\n",
       "      <td>0.0</td>\n",
       "      <td>0.0</td>\n",
       "    </tr>\n",
       "    <tr>\n",
       "      <th>1</th>\n",
       "      <td>7629</td>\n",
       "      <td>10060</td>\n",
       "      <td>Anthocidaris crassispina</td>\n",
       "      <td>0.01213</td>\n",
       "      <td>0.02515</td>\n",
       "      <td>0.00268</td>\n",
       "      <td>0.01352</td>\n",
       "      <td>0.01372</td>\n",
       "      <td>0.01143</td>\n",
       "      <td>0.00775</td>\n",
       "      <td>...</td>\n",
       "      <td>0.0</td>\n",
       "      <td>0.0</td>\n",
       "      <td>0.0</td>\n",
       "      <td>0.0</td>\n",
       "      <td>0.0</td>\n",
       "      <td>0.0</td>\n",
       "      <td>0.0</td>\n",
       "      <td>0.0</td>\n",
       "      <td>0.0</td>\n",
       "      <td>0.0</td>\n",
       "    </tr>\n",
       "    <tr>\n",
       "      <th>2</th>\n",
       "      <td>320850</td>\n",
       "      <td>14031</td>\n",
       "      <td>Staphylococcus phage X2</td>\n",
       "      <td>0.02580</td>\n",
       "      <td>0.01618</td>\n",
       "      <td>0.03606</td>\n",
       "      <td>0.01354</td>\n",
       "      <td>0.00848</td>\n",
       "      <td>0.02067</td>\n",
       "      <td>0.01041</td>\n",
       "      <td>...</td>\n",
       "      <td>0.0</td>\n",
       "      <td>0.0</td>\n",
       "      <td>0.0</td>\n",
       "      <td>0.0</td>\n",
       "      <td>0.0</td>\n",
       "      <td>0.0</td>\n",
       "      <td>0.0</td>\n",
       "      <td>0.0</td>\n",
       "      <td>0.0</td>\n",
       "      <td>0.0</td>\n",
       "    </tr>\n",
       "    <tr>\n",
       "      <th>3</th>\n",
       "      <td>1397</td>\n",
       "      <td>39839</td>\n",
       "      <td>Bacillus circulans</td>\n",
       "      <td>0.00128</td>\n",
       "      <td>0.02141</td>\n",
       "      <td>0.01225</td>\n",
       "      <td>0.01649</td>\n",
       "      <td>0.01330</td>\n",
       "      <td>0.01308</td>\n",
       "      <td>0.00399</td>\n",
       "      <td>...</td>\n",
       "      <td>0.0</td>\n",
       "      <td>0.0</td>\n",
       "      <td>0.0</td>\n",
       "      <td>0.0</td>\n",
       "      <td>0.0</td>\n",
       "      <td>0.0</td>\n",
       "      <td>0.0</td>\n",
       "      <td>0.0</td>\n",
       "      <td>0.0</td>\n",
       "      <td>0.0</td>\n",
       "    </tr>\n",
       "    <tr>\n",
       "      <th>4</th>\n",
       "      <td>50790</td>\n",
       "      <td>5112</td>\n",
       "      <td>mitochondrion Dascyllus trimaculatus</td>\n",
       "      <td>0.03169</td>\n",
       "      <td>0.01780</td>\n",
       "      <td>0.03893</td>\n",
       "      <td>0.00000</td>\n",
       "      <td>0.06240</td>\n",
       "      <td>0.01056</td>\n",
       "      <td>0.05262</td>\n",
       "      <td>...</td>\n",
       "      <td>1.0</td>\n",
       "      <td>0.0</td>\n",
       "      <td>0.0</td>\n",
       "      <td>0.0</td>\n",
       "      <td>0.0</td>\n",
       "      <td>0.0</td>\n",
       "      <td>0.0</td>\n",
       "      <td>0.0</td>\n",
       "      <td>0.0</td>\n",
       "      <td>0.0</td>\n",
       "    </tr>\n",
       "  </tbody>\n",
       "</table>\n",
       "<p>5 rows × 89 columns</p>\n",
       "</div>"
      ],
      "text/plain": [
       "   SpeciesID  Ncodons                           SpeciesName      UUU      UUC  \\\n",
       "0     207343     6686                    Bovine foamy virus  0.01541  0.00927   \n",
       "1       7629    10060              Anthocidaris crassispina  0.01213  0.02515   \n",
       "2     320850    14031               Staphylococcus phage X2  0.02580  0.01618   \n",
       "3       1397    39839                    Bacillus circulans  0.00128  0.02141   \n",
       "4      50790     5112  mitochondrion Dascyllus trimaculatus  0.03169  0.01780   \n",
       "\n",
       "       UUA      UUG      CUU      CUC      CUA  ...  DNAtype_1  DNAtype_11  \\\n",
       "0  0.01720  0.01825  0.01436  0.02303  0.01555  ...        0.0         0.0   \n",
       "1  0.00268  0.01352  0.01372  0.01143  0.00775  ...        0.0         0.0   \n",
       "2  0.03606  0.01354  0.00848  0.02067  0.01041  ...        0.0         0.0   \n",
       "3  0.01225  0.01649  0.01330  0.01308  0.00399  ...        0.0         0.0   \n",
       "4  0.03893  0.00000  0.06240  0.01056  0.05262  ...        1.0         0.0   \n",
       "\n",
       "   DNAtype_12  DNAtype_2  DNAtype_3  DNAtype_4  DNAtype_5  DNAtype_6  \\\n",
       "0         0.0        0.0        0.0        0.0        0.0        0.0   \n",
       "1         0.0        0.0        0.0        0.0        0.0        0.0   \n",
       "2         0.0        0.0        0.0        0.0        0.0        0.0   \n",
       "3         0.0        0.0        0.0        0.0        0.0        0.0   \n",
       "4         0.0        0.0        0.0        0.0        0.0        0.0   \n",
       "\n",
       "   DNAtype_7  DNAtype_9  \n",
       "0        0.0        0.0  \n",
       "1        0.0        0.0  \n",
       "2        0.0        0.0  \n",
       "3        0.0        0.0  \n",
       "4        0.0        0.0  \n",
       "\n",
       "[5 rows x 89 columns]"
      ]
     },
     "execution_count": 9,
     "metadata": {},
     "output_type": "execute_result"
    }
   ],
   "source": [
    "training_ohe = onehot_feature(training, 'Kingdom')\n",
    "training_ohe = onehot_feature(training_ohe, 'DNAtype')\n",
    "\n",
    "test_ohe = onehot_feature(test, 'Kingdom')\n",
    "test_ohe = onehot_feature(test_ohe, 'DNAtype')\n",
    "\n",
    "training_ohe.head()"
   ]
  },
  {
   "cell_type": "markdown",
   "id": "029b734d",
   "metadata": {},
   "source": [
    "#### Correlation between AGA and each codon and then between each pair of codon"
   ]
  },
  {
   "cell_type": "code",
   "execution_count": 10,
   "id": "7ea32681",
   "metadata": {},
   "outputs": [
    {
     "name": "stdout",
     "output_type": "stream",
     "text": [
      "Codons that have a Spearman correlation >= 0.5 (in absolute terms) with AGA:\n",
      "UUG: 0.517733529126989 -- p-value = 0.0\n",
      "AUC: -0.6633343136412367 -- p-value = 0.0\n",
      "GCC: -0.7147492089184697 -- p-value = 0.0\n",
      "CCC: -0.5197634685183508 -- p-value = 0.0\n",
      "GGC: -0.5852023884920887 -- p-value = 0.0\n",
      "UCU: 0.5009233407342024 -- p-value = 0.0\n",
      "AGU: 0.694694113172632 -- p-value = 0.0\n",
      "UAU: 0.561316082441995 -- p-value = 0.0\n",
      "AAU: 0.6609476920961472 -- p-value = 0.0\n",
      "UGU: 0.669400904393223 -- p-value = 0.0\n",
      "CAU: 0.5266827529444139 -- p-value = 0.0\n",
      "CAC: -0.5115707636164963 -- p-value = 0.0\n",
      "AAA: 0.5339363538522637 -- p-value = 0.0\n",
      "AGG: 0.632327477358485 -- p-value = 0.0\n",
      "GAU: 0.6161749105450396 -- p-value = 0.0\n",
      "GAA: 0.5428476518370057 -- p-value = 0.0\n",
      "\n",
      "Pairs of codons with a Spearman correlation >= 0.8 (in absolute terms) NOT considering AGA\n",
      "Spearman correlation between UUA and AUU: 0.8367679640170536 -- p-value = 0.0\n",
      "Spearman correlation between AUU and UUA: 0.8367679640170534 -- p-value = 0.0\n",
      "Spearman correlation between GCC and AAU: -0.8144283599086362 -- p-value = 0.0\n",
      "Spearman correlation between GCG and CCG: 0.822557812727275 -- p-value = 0.0\n",
      "Spearman correlation between GCG and ACG: 0.8223173287386336 -- p-value = 0.0\n",
      "Spearman correlation between CCG and GCG: 0.8225578127272749 -- p-value = 0.0\n",
      "Spearman correlation between ACG and GCG: 0.8223173287386337 -- p-value = 0.0\n",
      "Spearman correlation between UAU and AAU: 0.8132948467165341 -- p-value = 0.0\n",
      "Spearman correlation between AAU and GCC: -0.814428359908636 -- p-value = 0.0\n",
      "Spearman correlation between AAU and UAU: 0.8132948467165341 -- p-value = 0.0\n"
     ]
    }
   ],
   "source": [
    "# First let's check if we can use Pearson correlation:\n",
    "\n",
    "#for col in training.columns[5:]:\n",
    "#    plt.hist(training.loc[:, col], bins = 10)\n",
    "#    plt.show()\n",
    "    \n",
    "# We can't because they don't follow a gaussian distribution, so we use rank correlation methods like Spearman:\n",
    "\n",
    "from scipy import stats\n",
    "print(\"Codons that have a Spearman correlation >= 0.5 (in absolute terms) with AGA:\")\n",
    "for col in training.columns[5:]:\n",
    "    if col != 'AGA':\n",
    "        res = stats.spearmanr(training.loc[:, col], training.loc[:, 'AGA'])\n",
    "        if abs(res.statistic) >= 0.5:\n",
    "            print(\"{}: {} -- p-value = {}\".format(col, res.statistic, res.pvalue))\n",
    "\n",
    "# Now we look at the Spearman correlation between all codons to understand if there's some redundancy:\n",
    "\n",
    "print(\"\\nPairs of codons with a Spearman correlation >= 0.8 (in absolute terms) NOT considering AGA\")\n",
    "for codon1 in training.columns[5:]:\n",
    "    for codon2 in training.columns[5:]:\n",
    "        if codon1 != codon2 and codon1 != 'AGA' and codon2 != 'AGA':\n",
    "            res = stats.spearmanr( training.loc[:, codon1]    ,  training.loc[:, codon2]    )\n",
    "        if abs(res.statistic) >= 0.8:\n",
    "            print(\"Spearman correlation between {} and {}: {} -- p-value = {}\".format(codon1, codon2, res.statistic,\n",
    "                                                                                     res.pvalue))"
   ]
  },
  {
   "cell_type": "markdown",
   "id": "1e0cccd0",
   "metadata": {},
   "source": [
    "#### All functions needed later on:"
   ]
  },
  {
   "cell_type": "code",
   "execution_count": 11,
   "id": "61338e28",
   "metadata": {},
   "outputs": [],
   "source": [
    "from scipy.stats import t, f\n",
    "\n",
    "def rss(y_true, y_pred):\n",
    "    y_true = y_true.reshape(y_pred.shape)\n",
    "    return np.sum((y_true - y_pred) ** 2)\n",
    "\n",
    "def tss(y):\n",
    "    return np.sum((y - y.mean()) ** 2)\n",
    "\n",
    "def multiple_least_squares(X, y):\n",
    "    model = LinearRegression(fit_intercept=True)\n",
    "    model.fit(X, y)\n",
    "    y_pred = model.predict(X)\n",
    "    betas = [model.intercept_, *model.coef_]\n",
    "    return betas, y_pred\n",
    "\n",
    "def show_stats(X, y, betas, names, alpha=None):\n",
    "    n_samples, n_features = X.shape\n",
    "    deg = n_samples-n_features\n",
    "    \n",
    "    if X.shape[1] + 1 == betas.shape[0]:\n",
    "        X = np.concatenate([np.ones([X.shape[0], 1]), X], axis=-1)\n",
    "    \n",
    "    pred = X.dot(betas).reshape(-1)\n",
    "    betas = betas.reshape(-1)\n",
    "    y = y.reshape(-1)\n",
    "    RSE = ((y-pred)**2).sum()/(n_samples - n_features)\n",
    "    \n",
    "    se2_b = RSE*(np.linalg.inv(np.dot(X.T, X)).diagonal())\n",
    "    se_b = np.sqrt(se2_b)\n",
    "    t_stat_b = (betas - 0) / se_b\n",
    "\n",
    "    p_values = np.array([2*t.sf(np.abs(t_stat), deg) for t_stat in t_stat_b])\n",
    "    \n",
    "    df = pd.DataFrame()\n",
    "    df[\"Name\"] = names\n",
    "    df[\"Coefficients\"] = betas\n",
    "    df[\"Standard Errors\"] = se_b\n",
    "    df[\"t-stat\"] = t_stat_b\n",
    "    df[\"p-value\"] = p_values\n",
    "    if alpha:\n",
    "        rejectH0 = p_values < alpha\n",
    "        df[\"reject H0\"] = rejectH0    \n",
    "    \n",
    "    RSS = np.sum((y - pred)**2)\n",
    "    MSE = RSS/y.shape[0]\n",
    "    return df\n",
    " \n",
    "def Ftest_restricted(data, y, subset_features):\n",
    "    X_complete = data.to_numpy()\n",
    "    y = y.to_numpy()\n",
    "    n = X_complete.shape[0]\n",
    "    \n",
    "    betas_complete, y_pred = multiple_least_squares(X_complete, y)    \n",
    "    rss_complete = rss(y, y_pred)\n",
    "    nf_complete = X_complete.shape[1]\n",
    "    \n",
    "    notS = data.columns.difference(subset_features)\n",
    "    X_restr = data[notS].to_numpy()\n",
    "    betas_restr, y_pred = multiple_least_squares(X_restr, y)\n",
    "\n",
    "    rss_restr = rss(y, y_pred)\n",
    "    nf_restr = X_restr.shape[1]\n",
    "\n",
    "    q = nf_complete - nf_restr\n",
    "\n",
    "    F_num = (rss_restr - rss_complete) / q\n",
    "    F_den = rss_complete / (n - nf_complete - 1)\n",
    "    F = F_num / F_den\n",
    "\n",
    "    p_value = f.sf(F, q, n - nf_complete - 1)\n",
    "    return p_value, F"
   ]
  },
  {
   "cell_type": "markdown",
   "id": "12f25a9b",
   "metadata": {},
   "source": [
    "#### Multivariate linear regression models to understand which codon are useless for predicting AGA frequency\n",
    "#### Features considered: Codons\n",
    "#### APPLICA CORREZIONE PER TEST MULTIPLI"
   ]
  },
  {
   "cell_type": "code",
   "execution_count": 12,
   "id": "1e9856bf",
   "metadata": {},
   "outputs": [
    {
     "name": "stdout",
     "output_type": "stream",
     "text": [
      "         Name  Coefficients  Standard Errors        t-stat  p-value  reject H0\n",
      "0   Intercept      0.999938         0.000082  12248.651521      0.0       True\n",
      "1         UUU     -0.999900         0.000088 -11419.511160      0.0       True\n",
      "2         UUC     -0.999959         0.000101  -9905.781604      0.0       True\n",
      "3         UUA     -0.999960         0.000096 -10412.822448      0.0       True\n",
      "4         UUG     -0.999897         0.000103  -9710.379087      0.0       True\n",
      "..        ...           ...              ...           ...      ...        ...\n",
      "59        GAA     -0.999955         0.000103  -9738.646816      0.0       True\n",
      "60        GAG     -0.999950         0.000100 -10007.550693      0.0       True\n",
      "61        UAA     -0.999893         0.000088 -11412.835860      0.0       True\n",
      "62        UAG     -0.999394         0.000435  -2295.279831      0.0       True\n",
      "63        UGA     -1.000029         0.000133  -7535.083484      0.0       True\n",
      "\n",
      "[64 rows x 6 columns]\n",
      "\n",
      "NOT SIGNIFICANT CODONS:\n",
      "  Empty DataFrame\n",
      "Columns: [Name, Coefficients, Standard Errors, t-stat, p-value, reject H0]\n",
      "Index: []\n"
     ]
    }
   ],
   "source": [
    "from sklearn.linear_model import LinearRegression\n",
    "\n",
    "X1 = training.iloc[:, 5:].drop(\"AGA\", axis = 1)\n",
    "y = training.loc[:, \"AGA\"]\n",
    "\n",
    "X1_all_features = [col_name for col_name in X1.columns.tolist()]\n",
    "\n",
    "linear_model1 = LinearRegression(fit_intercept=True)\n",
    "linear_model1 = linear_model1.fit(X1, y)\n",
    "\n",
    "betas = np.array([linear_model1.intercept_, *linear_model1.coef_]).reshape(-1, 1) \n",
    "final_stats = show_stats(X1.to_numpy(), y.to_numpy(), betas, ['Intercept', *X1_all_features], alpha=0.001)\n",
    "print(final_stats)\n",
    "print(\"\\nNOT SIGNIFICANT CODONS:\\n \", final_stats[final_stats.loc[:, 'reject H0']==False])"
   ]
  },
  {
   "cell_type": "markdown",
   "id": "607856ed",
   "metadata": {},
   "source": [
    "#### Multivariate linear regression models to understand which codon are useless for predicting AGA frequency\n",
    "#### Features considered: Codons, Kingdom and DNAtype\n",
    "\n",
    "#### Se consideriamo tutti i livelli della dummy variable \"DNAtype\" la funzione dà NaN per gli SE dei coefficienti --> può aver senso rimuovere i livelli della variabile che hanno troppe poche osservazioni (1 sola) dato che questo porta sicuramente ad una stima non precisa del coefficiente"
   ]
  },
  {
   "cell_type": "code",
   "execution_count": 21,
   "id": "fb5c66b5",
   "metadata": {},
   "outputs": [
    {
     "name": "stdout",
     "output_type": "stream",
     "text": [
      "         Name  Coefficients  Standard Errors        t-stat   p-value  \\\n",
      "0   Intercept      0.999936        75.653152      0.013217  0.989455   \n",
      "1         UUU     -0.999914         0.000091 -11002.918357  0.000000   \n",
      "2         UUC     -0.999983         0.000105  -9561.039824  0.000000   \n",
      "3         UUA     -0.999972         0.000101  -9931.372048  0.000000   \n",
      "4         UUG     -0.999911         0.000105  -9492.038515  0.000000   \n",
      "..        ...           ...              ...           ...       ...   \n",
      "80  DNAtype_4      0.000006         0.000039      0.155761  0.876224   \n",
      "81  DNAtype_5      0.000028         0.000054      0.522845  0.601093   \n",
      "82  DNAtype_6      0.000048         0.000054      0.878556  0.379662   \n",
      "83  DNAtype_7      0.000055         0.000055      1.002649  0.316054   \n",
      "84  DNAtype_9     -0.000031         0.000047     -0.666865  0.504874   \n",
      "\n",
      "    reject H0  \n",
      "0       False  \n",
      "1        True  \n",
      "2        True  \n",
      "3        True  \n",
      "4        True  \n",
      "..        ...  \n",
      "80      False  \n",
      "81      False  \n",
      "82      False  \n",
      "83      False  \n",
      "84      False  \n",
      "\n",
      "[85 rows x 6 columns]\n",
      "\n",
      "NOT SIGNIFICANT FEATURES: \n",
      "            Name  Coefficients  Standard Errors        t-stat   p-value  \\\n",
      "0     Intercept  9.999365e-01        75.653152  1.321738e-02  0.989455   \n",
      "64  Kingdom_arc -6.563782e-06        75.653152 -8.676151e-08  1.000000   \n",
      "65  Kingdom_bct -1.963688e-06        75.653152 -2.595646e-08  1.000000   \n",
      "66  Kingdom_inv -2.048467e-07        75.653152 -2.707709e-09  1.000000   \n",
      "67  Kingdom_mam -5.546116e-07        75.653152 -7.330978e-09  1.000000   \n",
      "68  Kingdom_phg  4.030250e-06        75.653152  5.327273e-08  1.000000   \n",
      "69  Kingdom_plm  9.312870e-06        75.653152  1.230996e-07  1.000000   \n",
      "70  Kingdom_pln -5.082004e-07        75.653152 -6.717504e-09  1.000000   \n",
      "71  Kingdom_pri -2.963214e-06        75.653152 -3.916841e-08  1.000000   \n",
      "72  Kingdom_rod  1.745884e-06        75.653152  2.307748e-08  1.000000   \n",
      "73  Kingdom_vrl -2.592502e-06        75.653152 -3.426827e-08  1.000000   \n",
      "74  Kingdom_vrt  2.618408e-07        75.653152  3.461069e-09  1.000000   \n",
      "75    DNAtype_0  1.600869e-05         0.000039  4.145072e-01  0.678511   \n",
      "76    DNAtype_1  1.527243e-05         0.000039  3.952276e-01  0.692683   \n",
      "77   DNAtype_12  5.793172e-06         0.000042  1.367632e-01  0.891221   \n",
      "78    DNAtype_2  1.624216e-05         0.000039  4.204054e-01  0.674198   \n",
      "79    DNAtype_3 -1.915155e-05         0.000047 -4.061056e-01  0.684673   \n",
      "80    DNAtype_4  6.135167e-06         0.000039  1.557613e-01  0.876224   \n",
      "81    DNAtype_5  2.839534e-05         0.000054  5.228454e-01  0.601093   \n",
      "82    DNAtype_6  4.787136e-05         0.000054  8.785564e-01  0.379662   \n",
      "83    DNAtype_7  5.468686e-05         0.000055  1.002649e+00  0.316054   \n",
      "84    DNAtype_9 -3.148686e-05         0.000047 -6.668645e-01  0.504874   \n",
      "\n",
      "    reject H0  \n",
      "0       False  \n",
      "64      False  \n",
      "65      False  \n",
      "66      False  \n",
      "67      False  \n",
      "68      False  \n",
      "69      False  \n",
      "70      False  \n",
      "71      False  \n",
      "72      False  \n",
      "73      False  \n",
      "74      False  \n",
      "75      False  \n",
      "76      False  \n",
      "77      False  \n",
      "78      False  \n",
      "79      False  \n",
      "80      False  \n",
      "81      False  \n",
      "82      False  \n",
      "83      False  \n",
      "84      False  \n"
     ]
    }
   ],
   "source": [
    "X2 = training_ohe.drop([\"AGA\", \"SpeciesName\", \"SpeciesID\", \"Ncodons\", \"DNAtype_11\"], axis = 1)\n",
    "y = training_ohe.loc[:, \"AGA\"]\n",
    "\n",
    "X2_all_features = X2.columns.tolist()\n",
    "\n",
    "linear_model2 = LinearRegression(fit_intercept=True)\n",
    "linear_model2 = linear_model2.fit(X2, y)\n",
    "\n",
    "betas = np.array([linear_model2.intercept_, *linear_model2.coef_]).reshape(-1, 1) \n",
    "final_stats = show_stats(X2.to_numpy(), y.to_numpy(), betas, ['Intercept', *X2_all_features], alpha=0.001)\n",
    "\n",
    "\n",
    "print(final_stats)\n",
    "print(\"\\nNOT SIGNIFICANT FEATURES: \\n\", final_stats[final_stats.loc[:, 'reject H0']==False])"
   ]
  },
  {
   "cell_type": "code",
   "execution_count": 32,
   "id": "f89f5c96",
   "metadata": {},
   "outputs": [
    {
     "name": "stdout",
     "output_type": "stream",
     "text": [
      "DNAtype_1     2320.0\n",
      "DNAtype_11       1.0\n",
      "DNAtype_12       5.0\n",
      "DNAtype_2      658.0\n",
      "DNAtype_3        2.0\n",
      "DNAtype_4       24.0\n",
      "DNAtype_5        1.0\n",
      "DNAtype_6        1.0\n",
      "DNAtype_7        1.0\n",
      "DNAtype_9        2.0\n",
      "dtype: float64 \n",
      "\n",
      "Kingdom_arc     101.0\n",
      "Kingdom_bct    2336.0\n",
      "Kingdom_inv    1076.0\n",
      "Kingdom_mam     458.0\n",
      "Kingdom_phg     176.0\n",
      "Kingdom_plm      14.0\n",
      "Kingdom_pln    2018.0\n",
      "Kingdom_pri     144.0\n",
      "Kingdom_rod     172.0\n",
      "Kingdom_vrl    2265.0\n",
      "Kingdom_vrt    1662.0\n",
      "dtype: float64\n"
     ]
    }
   ],
   "source": [
    "print(np.sum(training_ohe.loc[:, \"DNAtype_1\":], axis = 0), '\\n')\n",
    "\n",
    "print(np.sum(training_ohe.loc[:, \"Kingdom_arc\":\"Kingdom_vrt\"], axis = 0))"
   ]
  },
  {
   "cell_type": "markdown",
   "id": "106b8c9d",
   "metadata": {},
   "source": [
    "#### Performance of the model with only the codons\n"
   ]
  },
  {
   "cell_type": "code",
   "execution_count": 14,
   "id": "57747cc3",
   "metadata": {},
   "outputs": [
    {
     "name": "stdout",
     "output_type": "stream",
     "text": [
      "Train R2 score  0.9999803188956894\n",
      "Train MSE score  1.4547727981251517e-09\n"
     ]
    }
   ],
   "source": [
    "from sklearn.metrics import r2_score, mean_squared_error\n",
    "\n",
    "y_predict = linear_model1.predict(X1)\n",
    "print(\"Train R2 score \", r2_score(y, y_predict))\n",
    "print(\"Train MSE score \", mean_squared_error(y, y_predict))"
   ]
  },
  {
   "cell_type": "markdown",
   "id": "a6c18b66",
   "metadata": {},
   "source": [
    "#### Check that 'DNAtype' and 'Kingdom' features are actually useless to predict AGA frequency\n",
    "By looking at the p-value, we can exclude those features."
   ]
  },
  {
   "cell_type": "code",
   "execution_count": 33,
   "id": "45e63c5d",
   "metadata": {},
   "outputs": [
    {
     "name": "stdout",
     "output_type": "stream",
     "text": [
      "p-value = 0.6378232098784188\n",
      "F-stat = 0.8655025713324493\n",
      "Do not Reject H0: There is NO evidence to say that at least one of the S features is useful\n"
     ]
    }
   ],
   "source": [
    "features_to_exclude = X2.loc[:, \"Kingdom_arc\":].columns.tolist()\n",
    "\n",
    "p_value, F = Ftest_restricted(X2, y, features_to_exclude)\n",
    "print(\"p-value =\", p_value)\n",
    "print(\"F-stat =\", F)\n",
    "if p_value < 0.001:\n",
    "    print(\"Reject H0: There is evidence to say that at least one of the S features is useful\")\n",
    "else:\n",
    "    print(\"Do not Reject H0: There is NO evidence to say that at least one of the S features is useful\")\n"
   ]
  },
  {
   "cell_type": "markdown",
   "id": "3effbe36",
   "metadata": {},
   "source": [
    "## METTERE PLOT SUI RESIDUI PER CAPIRE SE USARE POLINOMIALI ETC"
   ]
  },
  {
   "cell_type": "markdown",
   "id": "47f3867e",
   "metadata": {},
   "source": [
    "\n",
    "### Ridge vs Lasso\n",
    "#### In theory, Lasso performs better when we expect only few features to be significant. In this case we expect a lot of features to be useful (almost all the codons) so probably Ridge is better (try both but with this premise)\n",
    "#### Don't forget about Elastic Net"
   ]
  },
  {
   "cell_type": "markdown",
   "id": "5d40d276",
   "metadata": {},
   "source": [
    "#### Ridge, with CV"
   ]
  },
  {
   "cell_type": "code",
   "execution_count": 59,
   "id": "f005719b",
   "metadata": {},
   "outputs": [
    {
     "data": {
      "text/plain": [
       "array([-0.99989797, -0.99996219, -0.99995972, -0.99989169, -0.99982781,\n",
       "       -0.99988873, -1.00016744, -0.9999523 , -0.99984709, -0.99999328,\n",
       "       -0.99983637, -1.00001541, -0.9999014 , -1.00001455, -0.99985913,\n",
       "       -0.99985732, -0.99986552, -0.9998667 , -0.99997477, -1.00010244,\n",
       "       -1.00001627, -0.99985158, -1.00006516, -0.99980884, -0.9999665 ,\n",
       "       -0.99992212, -0.99993883, -0.99993559, -0.99983292, -1.00069803,\n",
       "       -0.9998157 , -0.99987106, -0.99990506, -0.99982157, -0.99992948,\n",
       "       -0.99981355, -0.99992822, -0.99987199, -0.99989004, -1.00015756,\n",
       "       -0.99983644, -0.99984315, -0.99996281, -0.99992119, -0.99990003,\n",
       "       -0.9997493 , -1.00020639, -0.99972808, -1.0001158 , -0.99990369,\n",
       "       -0.99995385, -1.00012177, -0.99990176, -0.9997737 , -1.00004166,\n",
       "       -0.99979269, -0.99997852, -0.99990102, -0.99995236, -0.99994566,\n",
       "       -0.99989263, -0.99939341, -1.00003447])"
      ]
     },
     "execution_count": 59,
     "metadata": {},
     "output_type": "execute_result"
    }
   ],
   "source": [
    "from sklearn.linear_model import RidgeCV\n",
    "X = training.iloc[:, 5:].drop(\"AGA\", axis = 1)\n",
    "y = training.loc[:, \"AGA\"]\n",
    "\n",
    "ridge_linear_model = RidgeCV(alphas=[1e-10, 1e-9, 1e-8, 1e-7, 1e-6, 1e-5, 1e-4,\n",
    "                                    1e-3, 1e-2, 1e-1, 1], fit_intercept = True).fit(X, y)\n",
    "ridge_linear_model.score(X, y)\n",
    "ridge_linear_model.alpha_ # Regolarizza poco\n",
    "\n",
    "ridge_linear_model.coef_"
   ]
  },
  {
   "cell_type": "code",
   "execution_count": 60,
   "id": "9f3347cd",
   "metadata": {},
   "outputs": [
    {
     "name": "stdout",
     "output_type": "stream",
     "text": [
      "Train R2 score  0.9999803050407857\n",
      "Train MSE score  1.4557969142875978e-09\n"
     ]
    }
   ],
   "source": [
    "y_predict = ridge_linear_model.predict(X)\n",
    "print(\"Train R2 score \", r2_score(y, y_predict))\n",
    "print(\"Train MSE score \", mean_squared_error(y, y_predict))"
   ]
  },
  {
   "cell_type": "markdown",
   "id": "3a627387",
   "metadata": {},
   "source": [
    "#### Lasso, with CV"
   ]
  },
  {
   "cell_type": "code",
   "execution_count": 51,
   "id": "830196ef",
   "metadata": {},
   "outputs": [
    {
     "name": "stdout",
     "output_type": "stream",
     "text": [
      "Coefficient of UUU: -0.7168874897846788\n",
      "Coefficient of UUC: -0.7234332902857926\n",
      "Coefficient of UUA: -0.7049619251318686\n",
      "Coefficient of UUG: -0.712573469936141\n",
      "Coefficient of CUU: -0.7314289854985274\n",
      "Coefficient of CUC: -0.7178467046501648\n",
      "Coefficient of CUA: -0.7313261657987461\n",
      "Coefficient of CUG: -0.7042662807933477\n",
      "Coefficient of AUU: -0.7333441018946949\n",
      "Coefficient of AUC: -0.730962896696767\n",
      "Coefficient of AUA: -0.7010507109563723\n",
      "Coefficient of AUG: -0.7074365698869282\n",
      "Coefficient of GUU: -0.716996319559336\n",
      "Coefficient of GUC: -0.7055912840681621\n",
      "Coefficient of GUA: -0.7069038948003306\n",
      "Coefficient of GUG: -0.7247373567052868\n",
      "Coefficient of GCU: -0.7154356585308953\n",
      "Coefficient of GCC: -0.7295541687151093\n",
      "Coefficient of GCA: -0.7255497453890111\n",
      "Coefficient of GCG: -0.7063432918216672\n",
      "Coefficient of CCU: -0.7153344398284471\n",
      "Coefficient of CCC: -0.7127368588616687\n",
      "Coefficient of CCA: -0.7065376530253261\n",
      "Coefficient of CCG: -0.7164461231593272\n",
      "Coefficient of UGG: -0.6762671759793442\n",
      "Coefficient of GGU: -0.7186816935093552\n",
      "Coefficient of GGC: -0.7320403699751477\n",
      "Coefficient of GGA: -0.6896284402753466\n",
      "Coefficient of GGG: -0.7394336201136185\n",
      "Coefficient of UCU: -0.6948342465593771\n",
      "Coefficient of UCC: -0.7039708434625698\n",
      "Coefficient of UCA: -0.698087650445068\n",
      "Coefficient of UCG: -0.7089740529752893\n",
      "Coefficient of AGU: -0.7055968995732363\n",
      "Coefficient of AGC: -0.7391322465225644\n",
      "Coefficient of ACU: -0.6986030368013555\n",
      "Coefficient of ACC: -0.7150438583352655\n",
      "Coefficient of ACA: -0.7223350726679667\n",
      "Coefficient of ACG: -0.7368082457403382\n",
      "Coefficient of UAU: -0.7275361834608136\n",
      "Coefficient of UAC: -0.7128323904724971\n",
      "Coefficient of CAA: -0.7165770710251597\n",
      "Coefficient of CAG: -0.7184296554640539\n",
      "Coefficient of AAU: -0.6969430978249548\n",
      "Coefficient of AAC: -0.7185436489795491\n",
      "Coefficient of UGU: -0.6893868914124972\n",
      "Coefficient of UGC: -0.7382156522387393\n",
      "Coefficient of CAU: -0.7116681418584898\n",
      "Coefficient of CAC: -0.7167142307416068\n",
      "Coefficient of AAA: -0.7068631460846265\n",
      "Coefficient of AAG: -0.7085708797011403\n",
      "Coefficient of CGU: -0.7740618637759573\n",
      "Coefficient of CGC: -0.7176388195608008\n",
      "Coefficient of CGA: -0.711402677670863\n",
      "Coefficient of CGG: -0.7174033485984497\n",
      "Coefficient of AGG: -0.5963367825761717\n",
      "Coefficient of GAU: -0.7157550487541695\n",
      "Coefficient of GAC: -0.7197188431105298\n",
      "Coefficient of GAA: -0.685208705124228\n",
      "Coefficient of GAG: -0.7088110390596633\n",
      "Coefficient of UAA: -0.7177713176562891\n",
      "Coefficient of UAG: -0.5590148433993842\n",
      "Coefficient of UGA: -0.7077648647364077\n"
     ]
    }
   ],
   "source": [
    "from sklearn.linear_model import LassoCV\n",
    "X = training.iloc[:, 5:].drop(\"AGA\", axis = 1)\n",
    "y = training.loc[:, \"AGA\"]\n",
    "\n",
    "lasso_linear_model = LassoCV(cv=10, random_state=0, max_iter=10000).fit(X, y)\n",
    "lasso_linear_model.score(X, y)\n",
    "\n",
    "for idx,coef in enumerate(lasso_linear_model.coef_):\n",
    "    if abs(coef) != 0:\n",
    "        print(\"Coefficient of {}: {}\".format(X.columns[idx], coef))\n",
    "    else:\n",
    "        print(\"Coefficient {} was removed\".format(X.columns[idx]))\n"
   ]
  },
  {
   "cell_type": "code",
   "execution_count": 61,
   "id": "d6ef8589",
   "metadata": {},
   "outputs": [
    {
     "name": "stdout",
     "output_type": "stream",
     "text": [
      "Train R2 score  0.9769411799917588\n",
      "Train MSE score  1.7044442006670613e-06\n"
     ]
    }
   ],
   "source": [
    "y_predict = lasso_linear_model.predict(X)\n",
    "print(\"Train R2 score \", r2_score(y, y_predict))\n",
    "print(\"Train MSE score \", mean_squared_error(y, y_predict))"
   ]
  },
  {
   "cell_type": "code",
   "execution_count": null,
   "id": "65aa18f5",
   "metadata": {},
   "outputs": [],
   "source": []
  }
 ],
 "metadata": {
  "kernelspec": {
   "display_name": "Python 3 (ipykernel)",
   "language": "python",
   "name": "python3"
  },
  "language_info": {
   "codemirror_mode": {
    "name": "ipython",
    "version": 3
   },
   "file_extension": ".py",
   "mimetype": "text/x-python",
   "name": "python",
   "nbconvert_exporter": "python",
   "pygments_lexer": "ipython3",
   "version": "3.11.9"
  }
 },
 "nbformat": 4,
 "nbformat_minor": 5
}
