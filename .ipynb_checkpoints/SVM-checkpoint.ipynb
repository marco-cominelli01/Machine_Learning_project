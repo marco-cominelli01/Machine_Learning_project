{
 "cells": [
  {
   "cell_type": "code",
   "execution_count": 1,
   "id": "0a91c593",
   "metadata": {},
   "outputs": [],
   "source": [
    "import matplotlib.pyplot as plt\n",
    "import seaborn as sns\n",
    "import pandas as pd\n",
    "import numpy as np\n",
    "import sklearn"
   ]
  },
  {
   "cell_type": "code",
   "execution_count": 2,
   "id": "10fb664c",
   "metadata": {},
   "outputs": [],
   "source": [
    "training = pd.read_csv(\"train.csv\")\n",
    "test = pd.read_csv(\"test.csv\")\n",
    "training = training.iloc[:, 1:] # Dropping 'Unnamed' column\n",
    "test = test.iloc[:, 1:] # Dropping 'Unnamed' column"
   ]
  },
  {
   "cell_type": "code",
   "execution_count": 3,
   "id": "d53d5235",
   "metadata": {},
   "outputs": [],
   "source": [
    "def onehot_feature(pd_data, column_name):\n",
    "    # Retrieve the unique values (the categories) and an index for each sample\n",
    "    # specifying the sample category (values[value_idx] reconstruct the original array)\n",
    "    col_values = pd_data[column_name].to_numpy().astype('<U')\n",
    "    values, value_idx = np.unique(col_values, return_inverse=True)\n",
    "    n_values = values.size\n",
    "    # Create a temporary identity matrix to convert value_idx into one-hot features\n",
    "    onehots = np.eye(n_values) #when you use an array to index another array in NumPy, it selects rows from the indexed array based on the values in the index array. e[a] selects rows from the identity matrix e based on the values in array a\n",
    "    value_onehot = onehots[value_idx]\n",
    "    # Remove the categorical feature\n",
    "    pd_data = pd_data.drop(column_name, axis=1)\n",
    "    # Add the new featues\n",
    "    for i in range(n_values):\n",
    "        pd_data[\"{}_{}\".format(column_name, values[i])] = value_onehot[:, i]\n",
    "    return pd_data"
   ]
  },
  {
   "cell_type": "code",
   "execution_count": 4,
   "id": "1b66419f",
   "metadata": {},
   "outputs": [],
   "source": [
    "training_for_class = onehot_feature(training, 'DNAtype')\n",
    "training_for_class = training_for_class.drop([\"SpeciesID\", \"SpeciesName\",\"Ncodons\",\"AGA\"], axis = 1)"
   ]
  },
  {
   "cell_type": "code",
   "execution_count": 5,
   "id": "c05db761",
   "metadata": {},
   "outputs": [],
   "source": [
    "X_for_class = training_for_class.drop(\"Kingdom\", axis = 1)\n",
    "y_for_class = training_for_class.loc[:, \"Kingdom\"]"
   ]
  },
  {
   "cell_type": "code",
   "execution_count": 6,
   "id": "0d5b5be7",
   "metadata": {},
   "outputs": [],
   "source": [
    "X = X_for_class.to_numpy()\n",
    "y = y_for_class.to_numpy()"
   ]
  },
  {
   "cell_type": "code",
   "execution_count": null,
   "id": "392e4689",
   "metadata": {},
   "outputs": [],
   "source": []
  },
  {
   "cell_type": "markdown",
   "id": "cb0dc802",
   "metadata": {},
   "source": [
    "## Quello che vorrei fare è provare prima le SVM lineari e fare la grid search sul parametro C, poi provo con i kernel non lineari e poi li confronto"
   ]
  },
  {
   "cell_type": "code",
   "execution_count": 7,
   "id": "bd7ea10d",
   "metadata": {},
   "outputs": [],
   "source": [
    "import numpy as np\n",
    "from sklearn.svm import SVC\n",
    "from sklearn.model_selection import GridSearchCV, train_test_split\n",
    "from sklearn.metrics import accuracy_score"
   ]
  },
  {
   "cell_type": "code",
   "execution_count": 14,
   "id": "3de21448",
   "metadata": {},
   "outputs": [
    {
     "name": "stdout",
     "output_type": "stream",
     "text": [
      "Miglior parametro C per il kernel lineare: {'C': 1000}\n"
     ]
    }
   ],
   "source": [
    "# Divido i dati in training e test set\n",
    "X_train, X_test, y_train, y_test = train_test_split(X, y, test_size=0.3, random_state=42)\n",
    "\n",
    "param_grid_linear = {'C': [100, 1000, 10000, 100000]}\n",
    "\n",
    "# Grid Search per C con modello lineare\n",
    "svm_linear = GridSearchCV(SVC(kernel='linear'), param_grid_linear, cv=5, scoring='accuracy')\n",
    "svm_linear.fit(X_train, y_train)\n",
    "print(\"Best C parameter for the linear model:\", svm_linear.best_params_)\n",
    "\n"
   ]
  },
  {
   "cell_type": "code",
   "execution_count": 18,
   "id": "ebf6730c",
   "metadata": {},
   "outputs": [
    {
     "name": "stdout",
     "output_type": "stream",
     "text": [
      "SVM train accuracy: 0.8973269362577108\n",
      "SVM test accuracy: 0.868244323632875\n"
     ]
    }
   ],
   "source": [
    "model = SVC(kernel='linear', C=1000)\n",
    "model.fit(X_train, y_train)\n",
    "\n",
    "train_acc = accuracy_score(model.predict(X_train), y_train)\n",
    "test_acc = accuracy_score(model.predict(X_test), y_test)\n",
    "\n",
    "print(\"SVM train accuracy:\", train_acc)\n",
    "print(\"SVM test accuracy:\", test_acc)"
   ]
  },
  {
   "cell_type": "code",
   "execution_count": null,
   "id": "2b8c5eaa",
   "metadata": {},
   "outputs": [],
   "source": []
  },
  {
   "cell_type": "code",
   "execution_count": null,
   "id": "7c1ad007",
   "metadata": {},
   "outputs": [],
   "source": []
  },
  {
   "cell_type": "code",
   "execution_count": null,
   "id": "68b19fa6",
   "metadata": {},
   "outputs": [],
   "source": []
  },
  {
   "cell_type": "code",
   "execution_count": null,
   "id": "396db480",
   "metadata": {},
   "outputs": [],
   "source": []
  },
  {
   "cell_type": "code",
   "execution_count": 8,
   "id": "c7eb977d",
   "metadata": {},
   "outputs": [],
   "source": [
    "def refine_grid_search(estimator, param_grid, X_train, y_train, cv=5, scoring='accuracy', n_jobs=-1):\n",
    "    while True:\n",
    "        # Configura GridSearchCV\n",
    "        grid_search = GridSearchCV(estimator, param_grid, cv=cv, scoring=scoring, refit=True, n_jobs=n_jobs)\n",
    "        grid_search.fit(X_train, y_train)\n",
    "        \n",
    "        # Ottieni i migliori parametri\n",
    "        best_params = grid_search.best_params_\n",
    "        print(f\"Migliori parametri trovati: {best_params}\")\n",
    "        \n",
    "        # Controlla se i parametri migliori sono ai limiti degli intervalli forniti\n",
    "        refine_needed = False\n",
    "        \n",
    "        for param in param_grid:\n",
    "            min_val, max_val = min(param_grid[param]), max(param_grid[param])\n",
    "            \n",
    "            if best_params[param] == min_val:\n",
    "                if min_val == 0:\n",
    "                    new_min = -0.0001 if max_val < 0 else 0.0001\n",
    "                new_min = min_val / 10\n",
    "                param_grid[param] = np.linspace(new_min, max_val, len(param_grid[param])).tolist()\n",
    "                refine_needed = True\n",
    "            \n",
    "            elif best_params[param] == max_val:\n",
    "                if max_val == 0:\n",
    "                    new_max = -0.0001 if max_val < 0 else 0.0001\n",
    "                new_max = max_val * 10\n",
    "                param_grid[param] = np.linspace(min_val, new_max, len(param_grid[param])).tolist()\n",
    "                refine_needed = True\n",
    "\n",
    "        if not refine_needed:\n",
    "            break\n",
    "    \n",
    "    return best_params\n"
   ]
  },
  {
   "cell_type": "code",
   "execution_count": null,
   "id": "505912ae",
   "metadata": {},
   "outputs": [],
   "source": [
    "svm_poly = SVC(kernel='poly')\n",
    "best_params_poly = refine_grid_search(svm_poly, param_grid_poly, X_train, y_train)\n",
    "print(\"Parametri finali ottimali per il kernel polinomiale:\", best_params_poly)"
   ]
  },
  {
   "cell_type": "code",
   "execution_count": null,
   "id": "162e9a0e",
   "metadata": {},
   "outputs": [],
   "source": []
  },
  {
   "cell_type": "code",
   "execution_count": null,
   "id": "7f4ae1e8",
   "metadata": {},
   "outputs": [],
   "source": []
  },
  {
   "cell_type": "code",
   "execution_count": null,
   "id": "37d6fee2",
   "metadata": {},
   "outputs": [],
   "source": []
  },
  {
   "cell_type": "code",
   "execution_count": null,
   "id": "9b95d2c9",
   "metadata": {},
   "outputs": [],
   "source": []
  },
  {
   "cell_type": "code",
   "execution_count": 26,
   "id": "01613387",
   "metadata": {},
   "outputs": [
    {
     "name": "stdout",
     "output_type": "stream",
     "text": [
      "Migliori parametri per il kernel polinomiale: {'C': 10000, 'degree': 5}\n"
     ]
    }
   ],
   "source": [
    "# polynomial\n",
    "param_grid_poly = {'C': [10000, 100000, 1000000], 'coef0': np.linspace(-10, 10, 3), 'degree': [4, 5]}\n",
    "\n",
    "svm_poly = GridSearchCV(SVC(kernel='poly'), param_grid_poly, cv=5, scoring='accuracy', refit=True, n_jobs=-1)\n",
    "svm_poly.fit(X_train, y_train)\n",
    "print(\"Migliori parametri per il kernel polinomiale:\", svm_poly.best_params_)"
   ]
  },
  {
   "cell_type": "code",
   "execution_count": null,
   "id": "f5301a2e",
   "metadata": {},
   "outputs": [],
   "source": []
  },
  {
   "cell_type": "code",
   "execution_count": null,
   "id": "b48a7389",
   "metadata": {},
   "outputs": [],
   "source": []
  },
  {
   "cell_type": "code",
   "execution_count": null,
   "id": "dd7f707c",
   "metadata": {},
   "outputs": [],
   "source": [
    "model = SVC(kernel='poly', C=, degree=)\n",
    "model.fit(X_train, y_train)\n",
    "\n",
    "train_acc = accuracy_score(model.predict(X_train), y_train)\n",
    "test_acc = accuracy_score(model.predict(X_test), y_test)\n",
    "\n",
    "print(\"SVM train accuracy:\", train_acc)\n",
    "print(\"SVM test accuracy:\", test_acc)"
   ]
  },
  {
   "cell_type": "code",
   "execution_count": null,
   "id": "85d51e09",
   "metadata": {},
   "outputs": [],
   "source": [
    "# RBF (radial basis)\n",
    "param_grid_rbf = {'C': np.linspace(0.001, 100, 3), 'gamma': np.linspace(0.001, 100, 3)}\n",
    "\n",
    "svm_rbf = GridSearchCV(SVC(kernel='rbf'), param_grid_rbf, cv=5, scoring='accuracy', refit=True, n_jobs = -1)\n",
    "svm_rbf.fit(X_train, y_train)\n",
    "print(\"Migliori parametri per il kernel rbf:\", svm_rbf.best_params_)"
   ]
  },
  {
   "cell_type": "code",
   "execution_count": null,
   "id": "e4fe9d13",
   "metadata": {},
   "outputs": [],
   "source": [
    "model = SVC(kernel='rbf', C=1000)\n",
    "model.fit(X_train, y_train)\n",
    "\n",
    "train_acc = accuracy_score(model.predict(X_train), y_train)\n",
    "test_acc = accuracy_score(model.predict(X_test), y_test)\n",
    "\n",
    "print(\"SVM train accuracy:\", train_acc)\n",
    "print(\"SVM test accuracy:\", test_acc)"
   ]
  },
  {
   "cell_type": "code",
   "execution_count": null,
   "id": "8d1d9f9a",
   "metadata": {},
   "outputs": [],
   "source": []
  },
  {
   "cell_type": "code",
   "execution_count": null,
   "id": "4fa25120",
   "metadata": {},
   "outputs": [],
   "source": [
    "# Sigmoid\n",
    "param_grid_sigmoid = {'C': np.linspace(0.001, 100, 3), 'gamma': np.linspace(0.001, 100, 3),'coef0': np.linspace(-10, 10, 3)}\n",
    "\n",
    "sigm_poly = GridSearchCV(SVC(kernel='sigmoid'), param_grid_sigmoid, cv=5, scoring='accuracy', refit=True, n_jobs = -1)\n",
    "sigm_poly.fit(X_train, y_train)\n",
    "print(\"Migliori parametri per il kernel sigmoid:\", grid_search_s.best_params_)"
   ]
  },
  {
   "cell_type": "code",
   "execution_count": null,
   "id": "34ae52b6",
   "metadata": {},
   "outputs": [],
   "source": []
  }
 ],
 "metadata": {
  "kernelspec": {
   "display_name": "Python 3 (ipykernel)",
   "language": "python",
   "name": "python3"
  },
  "language_info": {
   "codemirror_mode": {
    "name": "ipython",
    "version": 3
   },
   "file_extension": ".py",
   "mimetype": "text/x-python",
   "name": "python",
   "nbconvert_exporter": "python",
   "pygments_lexer": "ipython3",
   "version": "3.11.9"
  }
 },
 "nbformat": 4,
 "nbformat_minor": 5
}
